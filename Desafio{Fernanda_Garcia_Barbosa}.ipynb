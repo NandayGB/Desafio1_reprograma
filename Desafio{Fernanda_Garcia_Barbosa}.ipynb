{
  "nbformat": 4,
  "nbformat_minor": 0,
  "metadata": {
    "colab": {
      "provenance": [],
      "authorship_tag": "ABX9TyOnPzpzeq/UElG2IRC60GOs",
      "include_colab_link": true
    },
    "kernelspec": {
      "name": "python3",
      "display_name": "Python 3"
    },
    "language_info": {
      "name": "python"
    }
  },
  "cells": [
    {
      "cell_type": "markdown",
      "metadata": {
        "id": "view-in-github",
        "colab_type": "text"
      },
      "source": [
        "<a href=\"https://colab.research.google.com/github/NandayGB/Desafio1_reprograma/blob/main/Desafio%7BFernanda_Garcia_Barbosa%7D.ipynb\" target=\"_parent\"><img src=\"https://colab.research.google.com/assets/colab-badge.svg\" alt=\"Open In Colab\"/></a>"
      ]
    },
    {
      "cell_type": "code",
      "execution_count": null,
      "metadata": {
        "colab": {
          "base_uri": "https://localhost:8080/"
        },
        "id": "hno-N5hMMn8C",
        "outputId": "8255a430-ac5a-47b7-b1a3-3f9291615429"
      },
      "outputs": [
        {
          "output_type": "stream",
          "name": "stdout",
          "text": [
            "Meta de receita alcançada\n"
          ]
        }
      ],
      "source": [
        "#Desafio 1 e 2\n",
        "\n",
        "#Desafio1 Crie duas variáveis para armazenar os valores das vendas de almoço e jantar, respectivamente,Calcule a receita total do dia e armazene em uma variável receita_total. Imprima o resultado da receita total.\n",
        "\n",
        "vendas_almoço = 13360.20\n",
        "vendas_jantar = 7631.14\n",
        "meta_receita = 8000.00\n",
        "receita_total = vendas_almoço + vendas_jantar\n",
        "\n",
        "\n",
        "if receita_total >= meta_receita:\n",
        "    print(\"Meta de receita alcançada\")\n",
        "else:\n",
        "    print(\"Meta de receita não alcançada\")\n",
        "\n",
        "\n"
      ]
    },
    {
      "cell_type": "code",
      "source": [
        "#Desafio 3\n",
        "\n",
        "#Como Analista de Dados no ReproFood, você está avaliando a eficiência das entregas de pedidos. Um indicador importante é o tempo de entrega dos pedidos em comparação com o tempo prometido.\n",
        "\n",
        "tempo_prometido_bebidas = 30\n",
        "tempo_real_bebidas = 35\n",
        "tempo_prometido_sobremesas = 45\n",
        "tempo_real_sobremesas = 40\n",
        "\n",
        "if tempo_real_bebidas <= tempo_prometido_bebidas:\n",
        "    entrega_no_prazo_bebidas = True\n",
        "else:\n",
        "    entrega_no_prazo_bebidas = False\n",
        "\n",
        "if tempo_real_sobremesas <= tempo_prometido_sobremesas:\n",
        "    entrega_no_prazo_sobremesas = True\n",
        "else:\n",
        "    entrega_no_prazo_sobremesas = False\n",
        "\n",
        "\n",
        "if entrega_no_prazo_bebidas:\n",
        "    print(\"Os pedidos de bebidas foram entregues no prazo.\")\n",
        "else:\n",
        "    print(\"Os pedidos de bebidas não foram entregues no prazo.\")\n",
        "\n",
        "if entrega_no_prazo_sobremesas:\n",
        "    print(\"Os pedidos de sobremesas foram entregues no prazo.\")\n",
        "else:\n",
        "    print(\"Os pedidos de sobremesas não foram entregues no prazo.\")\n",
        "\n",
        "\n"
      ],
      "metadata": {
        "colab": {
          "base_uri": "https://localhost:8080/"
        },
        "id": "RHUAoW20MvwO",
        "outputId": "77cbeb7a-a064-4a5f-e431-cab72388a936"
      },
      "execution_count": null,
      "outputs": [
        {
          "output_type": "stream",
          "name": "stdout",
          "text": [
            "Os pedidos de bebidas não foram entregues no prazo.\n",
            "Os pedidos de sobremesas foram entregues no prazo.\n"
          ]
        }
      ]
    }
  ]
}